{
 "cells": [
  {
   "cell_type": "markdown",
   "metadata": {},
   "source": [
    "### Torch Audio\n",
    "\n",
    "이번 pytorch 1.2 버전과 함께 나온 torchaudio라이브러리의 튜토리얼 문서의 번역버전입니다."
   ]
  },
  {
   "cell_type": "code",
   "execution_count": 1,
   "metadata": {},
   "outputs": [
    {
     "name": "stderr",
     "output_type": "stream",
     "text": [
      "Duplicate key in file '/Users/seungheondoh/.matplotlib/matplotlibrc' line #2.\n"
     ]
    },
    {
     "data": {
      "text/plain": [
       "(tensor([[-0.0250, -0.0182, -0.0202,  ..., -0.3651, -0.4238, -0.4239]]),\n",
       " torch.Size([1, 661504]))"
      ]
     },
     "execution_count": 1,
     "metadata": {},
     "output_type": "execute_result"
    }
   ],
   "source": [
    "import torch\n",
    "import torchaudio\n",
    "import matplotlib.pyplot as plt\n",
    "# 파일디렉토리에 음성, 음악 파일을 넣어줍시다.\n",
    "filename = \"input/pop.wav\"\n",
    "# 데이터를 load하면 바로 torch 파일로 올라가게 됩니다.\n",
    "waveform, sample_rate = torchaudio.load(filename)\n",
    "waveform, waveform.size()"
   ]
  },
  {
   "cell_type": "markdown",
   "metadata": {},
   "source": [
    "시각화를 할때는 Shape을 고려해서 Transpose를 해야합니다. [1,661504] -> [661504,1] 로 바꾸어줍시다."
   ]
  },
  {
   "cell_type": "code",
   "execution_count": 2,
   "metadata": {},
   "outputs": [
    {
     "data": {
      "text/plain": [
       "[<matplotlib.lines.Line2D at 0x120d60ad0>]"
      ]
     },
     "execution_count": 2,
     "metadata": {},
     "output_type": "execute_result"
    },
    {
     "data": {
      "image/png": "[encoded data removed]",
      "text/plain": [
       "<Figure size 432x288 with 1 Axes>"
      ]
     },
     "metadata": {
      "needs_background": "light"
     },
     "output_type": "display_data"
    }
   ],
   "source": [
    "plt.figure()\n",
    "plt.plot(waveform.t().numpy())"
   ]
  },
  {
   "cell_type": "markdown",
   "metadata": {},
   "source": [
    "### Normalize"
   ]
  },
  {
   "cell_type": "code",
   "execution_count": 3,
   "metadata": {},
   "outputs": [],
   "source": [
    "def normalize(tensor):\n",
    "    # Subtract the mean, and scale to the interval [-1,1]\n",
    "    tensor_minusmean = tensor - tensor.mean()\n",
    "    return tensor_minusmean/tensor_minusmean.abs().max()"
   ]
  },
  {
   "cell_type": "code",
   "execution_count": 4,
   "metadata": {},
   "outputs": [],
   "source": [
    "waveform = normalize(waveform)"
   ]
  },
  {
   "cell_type": "code",
   "execution_count": 5,
   "metadata": {},
   "outputs": [
    {
     "data": {
      "text/plain": [
       "tensor([[-0.0294, -0.0214, -0.0238,  ..., -0.4290, -0.4980, -0.4981]])"
      ]
     },
     "execution_count": 5,
     "metadata": {},
     "output_type": "execute_result"
    }
   ],
   "source": [
    "waveform"
   ]
  },
  {
   "cell_type": "markdown",
   "metadata": {},
   "source": [
    "### 데이터 전처리\n",
    "\n",
    "- Resample: 샘플링 레이트를 변경해서 다시 샘플링을 진행합니다.\n",
    "- Spectrogram: STFT를 통해 Frequency영역대를 가지게 되는 Spectrogram을 만들어냅니다.\n",
    "- MelScale: normal STFT을 Mel-frequency STFT로 튜닝합니다. Conversion matrix를 활용합니다.\n",
    "- AmplitudeToDB: Spectrogram을 power/amplitude scale에서 decibel scale로 변경합니다.\n",
    "- MFCC: Waveform에서 Mel-frequency cepstrum coefficients을 추출해 냅니다.\n",
    "- MelSpectrogram: MEL Spectrograms울 STFT를 기반으로 만들어 냅니다.\n",
    "- MuLawEncoding: mu-law companding 기반으로 Waveform을 인코딩합니다.\n",
    "- MuLawDecoding: mu-law companding 기반으로 Waveform을 디코딩합니다."
   ]
  },
  {
   "cell_type": "code",
   "execution_count": 6,
   "metadata": {},
   "outputs": [],
   "source": [
    "function = torchaudio.transforms.Spectrogram()"
   ]
  },
  {
   "cell_type": "code",
   "execution_count": 7,
   "metadata": {},
   "outputs": [
    {
     "data": {
      "text/plain": [
       "tensor([3.7269e-03, 9.2530e-04, 1.6387e-02,  ..., 7.2181e+01, 1.9250e+00,\n",
       "        2.5144e+01])"
      ]
     },
     "execution_count": 7,
     "metadata": {},
     "output_type": "execute_result"
    }
   ],
   "source": [
    "specgram = torchaudio.transforms.Spectrogram()(waveform)\n",
    "specgram[0][0]"
   ]
  },
  {
   "cell_type": "code",
   "execution_count": 8,
   "metadata": {},
   "outputs": [
    {
     "data": {
      "text/plain": [
       "tensor([0., 0., 0.,  ..., 0., 0., 0.], grad_fn=<SelectBackward>)"
      ]
     },
     "execution_count": 8,
     "metadata": {},
     "output_type": "execute_result"
    }
   ],
   "source": [
    "melspecgram = torchaudio.transforms.MelSpectrogram()(waveform)\n",
    "melspecgram[0][0]"
   ]
  },
  {
   "cell_type": "code",
   "execution_count": null,
   "metadata": {},
   "outputs": [],
   "source": []
  },
  {
   "cell_type": "code",
   "execution_count": null,
   "metadata": {},
   "outputs": [],
   "source": []
  }
 ],
 "metadata": {
  "kernelspec": {
   "display_name": "python3.7",
   "language": "python",
   "name": "python3.7"
  },
  "language_info": {
   "codemirror_mode": {
    "name": "ipython",
    "version": 3
   },
   "file_extension": ".py",
   "mimetype": "text/x-python",
   "name": "python",
   "nbconvert_exporter": "python",
   "pygments_lexer": "ipython3",
   "version": "3.7.4"
  }
 },
 "nbformat": 4,
 "nbformat_minor": 2
}
